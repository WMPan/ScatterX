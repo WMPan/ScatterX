{
 "cells": [
  {
   "cell_type": "code",
   "execution_count": 1,
   "metadata": {},
   "outputs": [],
   "source": [
    "import torch\n",
    "import numpy as np"
   ]
  },
  {
   "cell_type": "code",
   "execution_count": 26,
   "metadata": {},
   "outputs": [],
   "source": [
    "def getPick(p):\n",
    "    if p.ndim != 1:\n",
    "        raise Exception(\"ndim does not equal 1！\");\n",
    "    lp = p.shape[0]\n",
    "    \n",
    "    def pick(i):\n",
    "        if lp == 0:\n",
    "            return np.array([], dtype='int16')\n",
    "        mx = p.max();\n",
    "        mn = p.min();\n",
    "        if i.ndim != 1:\n",
    "            raise Exception(\"ndim does not equal 1！\");  \n",
    "        \n",
    "        if mx >= i.shape[0]:\n",
    "            raise Exception(\"Argument invalid！\");\n",
    "        j = np.zeros(lp, dtype = 'int16');\n",
    "        for k in range(lp):\n",
    "            j[k]= i[p[k]];\n",
    "        return j\n",
    "    return pick\n",
    "\n",
    "def traversal(traversalShape,action):      \n",
    "    ilen = len(traversalShape)\n",
    "    if ilen == 0:\n",
    "        raise Exception(\"traversalShape's length == 0！\");\n",
    "    elif traversalShape[0] == 0:\n",
    "        raise Exception(\"traversalShape's length == 0！\");\n",
    "    traversalInd = np.array(traversalShape);\n",
    "    def traversalForInner(i):   \n",
    "        n = traversalShape[i];\n",
    "        \n",
    "        if i < ilen-1:\n",
    "            for j in range(n):\n",
    "                traversalInd[i] = j;\n",
    "                traversalForInner(i+1);\n",
    "        elif i == ilen-1:\n",
    "            for j in range(n):\n",
    "                traversalInd[i] = j;\n",
    "                action(traversalInd);\n",
    "        else:\n",
    "            raise Exception(\"Exception raised！\");\n",
    "    traversalForInner(0)\n",
    "\n",
    "def getProvisionXTransformer(shape0, shape1, T0, p0, p1, p):    \n",
    "    if p0.dtype != 'int16' or p0.dtype != 'int16' or p.dtype != 'int16':\n",
    "        raise Exception(\"Data type error！\");\n",
    "    elif p0.ndim != 1 or p0.ndim != 1 or p.ndim != 1:\n",
    "        raise Exception(\"ndim to form pick does not equal 1！\");\n",
    "    E = np.zeros(shape0 + (len(shape1),), dtype = 'int16');\n",
    "    I = np.zeros(len(shape0), dtype = 'int16');\n",
    "    J = np.zeros(len(shape1), dtype = 'int16');\n",
    "    pick0 = getPick(p0);\n",
    "    pick1 = getPick(p1);\n",
    "    pick = getPick(p);\n",
    "    single = False;\n",
    "    if T0.ndim == len(p0):\n",
    "        single = True;\n",
    "    def combine(IC):\n",
    "        print(T0)\n",
    "        J0 = pick0(IC);\n",
    "        if single:\n",
    "            Jp = [T0[tuple(J0)]]\n",
    "        else:\n",
    "            Jp = T0[tuple(J0)];\n",
    "        #Jp = T0[tuple(J0)] \n",
    "        J1 = pick1(IC)\n",
    "        Jl = list(tuple(Jp) + tuple(J1))\n",
    "        Ja = np.array(Jl, dtype = 'int16')\n",
    "        J = pick(Ja)\n",
    "        E[tuple(IC)] = J;\n",
    "    traversal(shape0,combine)\n",
    "   \n",
    "    return E\n",
    "\n",
    "def scatter(src, X, XTransformer):\n",
    "    shape = XTransformer.shape[:-1];    \n",
    "    I = np.zeros(len(shape), dtype = 'int16');\n",
    "    def action(Ia):\n",
    "        src[tuple(XTransformer[tuple(Ia)])] = X[tuple(Ia)]\n",
    "    traversal(shape,action)\n",
    "    return src\n",
    "\n",
    "def scatterX(src, X, T0, p0, p1, p):\n",
    "    shape0 = X.shape;\n",
    "    shape1 = src.shape;\n",
    "    XTransformer = getProvisionXTransformer(shape0, shape1, T0, p0, p1, p);\n",
    "    \n",
    "    scatter(src, X, XTransformer)\n",
    "    return src\n",
    "def tensorflowScatter(tensor, indices, updates):\n",
    "    l = list(range(len(indices.shape) - 1))\n",
    "   \n",
    "    tl = indices.shape[-1]\n",
    "    ln = list(range(len(tensor.shape)))\n",
    "    \n",
    "    t1 = ln[tl:] \n",
    "    p0 = np.array(l, dtype='int16')\n",
    "    p1 = np.array(t1, dtype='int16')\n",
    "    p = np.array(ln, dtype='int16')\n",
    "    scatterX(tensor, updates, indices, p0, p1, p)\n",
    "def pytorchScatter"
   ]
  },
  {
   "cell_type": "code",
   "execution_count": 6,
   "metadata": {},
   "outputs": [
    {
     "data": {
      "text/plain": [
       "tensor([[0.4707, 0.0000, 0.0000, 0.0000, 0.0000],\n",
       "        [0.0000, 0.0000, 0.5085, 0.0000, 0.0000],\n",
       "        [0.0000, 0.0000, 0.0000, 0.0000, 0.0000]])"
      ]
     },
     "execution_count": 6,
     "metadata": {},
     "output_type": "execute_result"
    }
   ],
   "source": [
    "#test case 0 \n",
    "u = torch.tensor([[0.4707, 0.5464, 0.4439, 0.7922, 0.8641],\n",
    "        [0.5085, 0.5926, 0.2702, 0.3165, 0.6066]]);\n",
    "torch.zeros(3, 5).scatter_(1, torch.tensor([[0],[2]]), u)"
   ]
  },
  {
   "cell_type": "code",
   "execution_count": 38,
   "metadata": {},
   "outputs": [
    {
     "name": "stdout",
     "output_type": "stream",
     "text": [
      "[0 0]\n",
      "[1 0]\n",
      "[[0.4707]\n",
      " [0.5085]]\n",
      "[[0]\n",
      " [2]]\n",
      "[[0]\n",
      " [2]]\n"
     ]
    },
    {
     "data": {
      "text/plain": [
       "array([[0.4707, 0.    , 0.    , 0.    , 0.    ],\n",
       "       [0.    , 0.    , 0.5085, 0.    , 0.    ],\n",
       "       [0.    , 0.    , 0.    , 0.    , 0.    ]])"
      ]
     },
     "execution_count": 38,
     "metadata": {},
     "output_type": "execute_result"
    }
   ],
   "source": [
    "#test case 0 pytorch\n",
    "u = np.array([[0.4707, 0.5464, 0.4439, 0.7922, 0.8641],\n",
    "        [0.5085, 0.5926, 0.2702, 0.3165, 0.6066]]);\n",
    "ind = np.array([[0],[2]], dtype='int16');\n",
    "src = np.zeros((3, 5))\n",
    "l = len(ind.shape)\n",
    "ls = list(range(l))\n",
    "dim =1\n",
    "p1 = np.array(tuple(ls[:dim])+tuple(ls[(dim+1):]), dtype='int16');\n",
    "p0 = np.array(list(range(l)), dtype='int16');\n",
    "p = np.array(tuple(ls[1:(dim+1)])+(0,)+tuple(ls[(dim+1):]), dtype='int16');\n",
    "u2 = np.zeros(ind.shape);\n",
    "def f(I):\n",
    "    print(I)\n",
    "    u2[tuple(I)] = u[tuple(I)]\n",
    "traversal(ind.shape,f)\n",
    "#print(\"ind2\")\n",
    "print(u2)\n",
    "scatterX(src, u2, ind, p0, p1, p)"
   ]
  },
  {
   "cell_type": "code",
   "execution_count": 37,
   "metadata": {},
   "outputs": [
    {
     "data": {
      "text/plain": [
       "[]"
      ]
     },
     "execution_count": 37,
     "metadata": {},
     "output_type": "execute_result"
    }
   ],
   "source": [
    "l=[2,3]\n",
    "l[2:]"
   ]
  },
  {
   "cell_type": "code",
   "execution_count": 11,
   "metadata": {},
   "outputs": [
    {
     "ename": "TypeError",
     "evalue": "'int' object is not iterable",
     "output_type": "error",
     "traceback": [
      "\u001b[0;31m---------------------------------------------------------------------------\u001b[0m",
      "\u001b[0;31mTypeError\u001b[0m                                 Traceback (most recent call last)",
      "\u001b[0;32m<ipython-input-11-69b6b14cc30a>\u001b[0m in \u001b[0;36m<module>\u001b[0;34m\u001b[0m\n\u001b[0;32m----> 1\u001b[0;31m \u001b[0mtuple\u001b[0m\u001b[0;34m(\u001b[0m\u001b[0;36m1\u001b[0m\u001b[0;34m)\u001b[0m\u001b[0;34m\u001b[0m\u001b[0;34m\u001b[0m\u001b[0m\n\u001b[0m",
      "\u001b[0;31mTypeError\u001b[0m: 'int' object is not iterable"
     ]
    }
   ],
   "source": [
    "tuple(1)"
   ]
  },
  {
   "cell_type": "code",
   "execution_count": 12,
   "metadata": {},
   "outputs": [
    {
     "ename": "TypeError",
     "evalue": "object of type 'int' has no len()",
     "output_type": "error",
     "traceback": [
      "\u001b[0;31m---------------------------------------------------------------------------\u001b[0m",
      "\u001b[0;31mTypeError\u001b[0m                                 Traceback (most recent call last)",
      "\u001b[0;32m<ipython-input-12-1cf91bb60cc0>\u001b[0m in \u001b[0;36m<module>\u001b[0;34m\u001b[0m\n\u001b[0;32m----> 1\u001b[0;31m \u001b[0mlen\u001b[0m\u001b[0;34m(\u001b[0m\u001b[0;36m1\u001b[0m\u001b[0;34m)\u001b[0m\u001b[0;34m\u001b[0m\u001b[0;34m\u001b[0m\u001b[0m\n\u001b[0m",
      "\u001b[0;31mTypeError\u001b[0m: object of type 'int' has no len()"
     ]
    }
   ],
   "source": [
    "len(1)"
   ]
  },
  {
   "cell_type": "code",
   "execution_count": 13,
   "metadata": {},
   "outputs": [
    {
     "ename": "SyntaxError",
     "evalue": "invalid syntax (<ipython-input-13-05fc7306edea>, line 1)",
     "output_type": "error",
     "traceback": [
      "\u001b[0;36m  File \u001b[0;32m\"<ipython-input-13-05fc7306edea>\"\u001b[0;36m, line \u001b[0;32m1\u001b[0m\n\u001b[0;31m    1.tolist\u001b[0m\n\u001b[0m           ^\u001b[0m\n\u001b[0;31mSyntaxError\u001b[0m\u001b[0;31m:\u001b[0m invalid syntax\n"
     ]
    }
   ],
   "source": [
    "1.tolist"
   ]
  },
  {
   "cell_type": "code",
   "execution_count": 14,
   "metadata": {},
   "outputs": [
    {
     "ename": "TypeError",
     "evalue": "'int' object is not iterable",
     "output_type": "error",
     "traceback": [
      "\u001b[0;31m---------------------------------------------------------------------------\u001b[0m",
      "\u001b[0;31mTypeError\u001b[0m                                 Traceback (most recent call last)",
      "\u001b[0;32m<ipython-input-14-7ade7017386b>\u001b[0m in \u001b[0;36m<module>\u001b[0;34m\u001b[0m\n\u001b[0;32m----> 1\u001b[0;31m \u001b[0mlist\u001b[0m\u001b[0;34m(\u001b[0m\u001b[0;36m1\u001b[0m\u001b[0;34m)\u001b[0m\u001b[0;34m\u001b[0m\u001b[0;34m\u001b[0m\u001b[0m\n\u001b[0m",
      "\u001b[0;31mTypeError\u001b[0m: 'int' object is not iterable"
     ]
    }
   ],
   "source": [
    "list(1)"
   ]
  },
  {
   "cell_type": "code",
   "execution_count": null,
   "metadata": {},
   "outputs": [],
   "source": []
  }
 ],
 "metadata": {
  "kernelspec": {
   "display_name": "Python 3",
   "language": "python",
   "name": "python3"
  },
  "language_info": {
   "codemirror_mode": {
    "name": "ipython",
    "version": 3
   },
   "file_extension": ".py",
   "mimetype": "text/x-python",
   "name": "python",
   "nbconvert_exporter": "python",
   "pygments_lexer": "ipython3",
   "version": "3.7.9"
  }
 },
 "nbformat": 4,
 "nbformat_minor": 4
}
