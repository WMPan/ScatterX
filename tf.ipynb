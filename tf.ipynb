{
 "cells": [
  {
   "cell_type": "code",
   "execution_count": 1,
   "metadata": {},
   "outputs": [],
   "source": [
    "import tensorflow as tf\n",
    "import numpy as np"
   ]
  },
  {
   "cell_type": "code",
   "execution_count": 2,
   "metadata": {},
   "outputs": [],
   "source": [
    "import ScatterX as x"
   ]
  },
  {
   "cell_type": "code",
   "execution_count": 3,
   "metadata": {},
   "outputs": [],
   "source": [
    "def tensorflowScatter(tensor, indices, updates):\n",
    "    l = list(range(len(indices.shape) - 1))\n",
    "    tl = indices.shape[-1]\n",
    "    ln = list(range(len(tensor.shape)))\n",
    "    t1 = ln[tl:]   \n",
    "    p0 = np.array(l, dtype='int16')\n",
    "    p1 = np.array(t1, dtype='int16')\n",
    "    p = np.array(ln, dtype='int16')\n",
    "    x.scatterX(tensor, updates, indices, p0, p1, p)"
   ]
  },
  {
   "cell_type": "code",
   "execution_count": 13,
   "metadata": {},
   "outputs": [
    {
     "name": "stdout",
     "output_type": "stream",
     "text": [
      "[ 1  1  6  9 88 22  1  1  1  1]\n"
     ]
    }
   ],
   "source": [
    "#test case 0 tf\n",
    "indices = tf.constant([[2], [3], [5], [4]])\n",
    "updates = tf.constant([6, 9, 22, 88])\n",
    "tensor = tf.ones([10], dtype=tf.int32)\n",
    "s = tf.tensor_scatter_nd_update(tensor, indices, updates)\n",
    "print(s.numpy())"
   ]
  },
  {
   "cell_type": "code",
   "execution_count": 14,
   "metadata": {},
   "outputs": [
    {
     "data": {
      "text/plain": [
       "array([ 1,  1,  6,  9, 88, 22,  1,  1,  1,  1], dtype=int16)"
      ]
     },
     "execution_count": 14,
     "metadata": {},
     "output_type": "execute_result"
    }
   ],
   "source": [
    "#test case 0\n",
    "tensor0 = np.ones([10], dtype='int16')\n",
    "indices = np.array([[2], [3], [5], [4]], dtype='int16')\n",
    "updates = np.array([6, 9, 22, 88], dtype='int16')\n",
    "tensorflowScatter(tensor0, indices, updates)\n",
    "tensor0"
   ]
  },
  {
   "cell_type": "code",
   "execution_count": 11,
   "metadata": {},
   "outputs": [
    {
     "name": "stdout",
     "output_type": "stream",
     "text": [
      "[[[2 4 3 7]\n",
      "  [1 6 1 6]\n",
      "  [4 5 6 7]\n",
      "  [9 0 0 0]]\n",
      "\n",
      " [[1 1 1 1]\n",
      "  [1 1 1 1]\n",
      "  [1 1 1 1]\n",
      "  [1 1 1 1]]\n",
      "\n",
      " [[1 1 1 1]\n",
      "  [1 1 1 1]\n",
      "  [1 1 1 1]\n",
      "  [1 1 1 1]]\n",
      "\n",
      " [[8 8 8 5]\n",
      "  [7 6 7 6]\n",
      "  [9 1 7 1]\n",
      "  [1 3 7 5]]]\n"
     ]
    }
   ],
   "source": [
    "#test case 1\n",
    "indices = tf.constant([[0], [3]])\n",
    "updates = tf.constant([[[2,4,3,7], [1, 6,1, 6],\n",
    "                        [4,5,6,7], [9,0,0,0]],\n",
    "                       [[8, 8, 8, 5], [7, 6, 7, 6],\n",
    "                        [9, 1, 7, 1], [1, 3, 7, 5]]])\n",
    "\n",
    "tensor = tf.ones([4, 4, 4], dtype = tf.int32)\n",
    "\n",
    "print(tf.tensor_scatter_nd_update(tensor, indices, updates).numpy())"
   ]
  },
  {
   "cell_type": "code",
   "execution_count": 12,
   "metadata": {},
   "outputs": [
    {
     "data": {
      "text/plain": [
       "array([[[2, 4, 3, 7],\n",
       "        [1, 6, 1, 6],\n",
       "        [4, 5, 6, 7],\n",
       "        [9, 0, 0, 0]],\n",
       "\n",
       "       [[1, 1, 1, 1],\n",
       "        [1, 1, 1, 1],\n",
       "        [1, 1, 1, 1],\n",
       "        [1, 1, 1, 1]],\n",
       "\n",
       "       [[8, 8, 8, 5],\n",
       "        [7, 6, 7, 6],\n",
       "        [9, 1, 7, 1],\n",
       "        [1, 3, 7, 5]],\n",
       "\n",
       "       [[1, 1, 1, 1],\n",
       "        [1, 1, 1, 1],\n",
       "        [1, 1, 1, 1],\n",
       "        [1, 1, 1, 1]]], dtype=int16)"
      ]
     },
     "execution_count": 12,
     "metadata": {},
     "output_type": "execute_result"
    }
   ],
   "source": [
    "#test case 1\n",
    "indices = np.array([[0], [2]], dtype='int16')\n",
    "updates = np.array([[[2,4,3,7], [1, 6,1, 6],\n",
    "                        [4,5,6,7], [9,0,0,0]],\n",
    "                       [[8, 8, 8, 5], [7, 6, 7, 6],\n",
    "                        [9, 1, 7, 1], [1, 3, 7, 5]]], \n",
    "                      dtype='int16')\n",
    "tensor = np.ones([4, 4, 4], dtype='int16')\n",
    "tensorflowScatter(tensor, indices, updates)\n",
    "tensor"
   ]
  },
  {
   "cell_type": "code",
   "execution_count": 9,
   "metadata": {},
   "outputs": [
    {
     "data": {
      "text/plain": [
       "'2.3.1'"
      ]
     },
     "execution_count": 9,
     "metadata": {},
     "output_type": "execute_result"
    }
   ],
   "source": [
    "tf.version.VERSION"
   ]
  },
  {
   "cell_type": "code",
   "execution_count": null,
   "metadata": {},
   "outputs": [],
   "source": []
  }
 ],
 "metadata": {
  "kernelspec": {
   "display_name": "Python 3",
   "language": "python",
   "name": "python3"
  },
  "language_info": {
   "codemirror_mode": {
    "name": "ipython",
    "version": 3
   },
   "file_extension": ".py",
   "mimetype": "text/x-python",
   "name": "python",
   "nbconvert_exporter": "python",
   "pygments_lexer": "ipython3",
   "version": "3.7.9"
  }
 },
 "nbformat": 4,
 "nbformat_minor": 4
}
