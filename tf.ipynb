{
 "cells": [
  {
   "cell_type": "code",
   "execution_count": 1,
   "metadata": {},
   "outputs": [],
   "source": [
    "import tensorflow as tf\n",
    "import numpy as np"
   ]
  },
  {
   "cell_type": "code",
   "execution_count": 2,
   "metadata": {},
   "outputs": [],
   "source": [
    "#import ScatterX as x"
   ]
  },
  {
   "cell_type": "code",
   "execution_count": 96,
   "metadata": {},
   "outputs": [
    {
     "data": {
      "text/plain": [
       "array(3)"
      ]
     },
     "execution_count": 96,
     "metadata": {},
     "output_type": "execute_result"
    }
   ],
   "source": [
    "np.array(3)"
   ]
  },
  {
   "cell_type": "code",
   "execution_count": 125,
   "metadata": {},
   "outputs": [],
   "source": [
    "def getPick(p):\n",
    "    if p.ndim != 1:\n",
    "        raise Exception(\"ndim does not equal 1！\");\n",
    "    lp = p.shape[0]\n",
    "    \n",
    "    def pick(i):\n",
    "        if lp == 0:\n",
    "            return np.array([], dtype='int16')\n",
    "        mx = p.max();\n",
    "        mn = p.min();\n",
    "        if i.ndim != 1:\n",
    "            raise Exception(\"ndim does not equal 1！\");  \n",
    "        \n",
    "        if mx >= i.shape[0]:\n",
    "            raise Exception(\"Argument Invalid！\");\n",
    "        j = np.zeros(lp, dtype = 'int16');\n",
    "        for k in range(lp):\n",
    "            j[k]= i[p[k]];\n",
    "        return j\n",
    "    return pick\n",
    "\n",
    "def traversal(traversalShape,action):      \n",
    "    ilen = len(traversalShape)\n",
    "    if ilen == 0:\n",
    "        raise Exception(\"traversalShape's length == 0！\");\n",
    "    elif traversalShape[0] == 0:\n",
    "        raise Exception(\"traversalShape's length == 0！\");\n",
    "    traversalInd = np.array(traversalShape);\n",
    "    def traversalForInner(i):   \n",
    "        n = traversalShape[i];\n",
    "        \n",
    "        if i < ilen-1:\n",
    "            for j in range(n):\n",
    "                traversalInd[i] = j;\n",
    "                traversalForInner(i+1);\n",
    "        elif i == ilen-1:\n",
    "            for j in range(n):\n",
    "                traversalInd[i] = j;\n",
    "                action(traversalInd);\n",
    "        else:\n",
    "            raise Exception(\"Exception raised！\");\n",
    "    traversalForInner(0)\n",
    "\n",
    "def getProvisionXTransformer(shape0, shape1, T0, p0, p1, p):    \n",
    "    if p0.dtype != 'int16' or p0.dtype != 'int16' or p.dtype != 'int16':\n",
    "        raise Exception(\"Data type error！\");\n",
    "    elif p0.ndim != 1 or p0.ndim != 1 or p.ndim != 1:\n",
    "        raise Exception(\"ndim to form pick does not equal 1！\");\n",
    "    E = np.zeros(shape0 + (len(shape1),), dtype = 'int16');\n",
    "    I = np.zeros(len(shape0), dtype = 'int16');\n",
    "    J = np.zeros(len(shape1), dtype = 'int16');\n",
    "    pick0 = getPick(p0);\n",
    "    pick1 = getPick(p1);\n",
    "    pick = getPick(p);\n",
    "    def combine(IC):\n",
    "        J0 = pick0(IC);\n",
    "       \n",
    "        Jp = T0[tuple(J0)] \n",
    "        J1 = pick1(IC)\n",
    "        Jl = list(tuple(Jp) + tuple(J1))\n",
    "        Ja = np.array(Jl, dtype = 'int16')\n",
    "        J = pick(Ja)\n",
    "        E[tuple(IC)] = J;\n",
    "    traversal(shape0,combine)\n",
    "   \n",
    "    return E\n",
    "\n",
    "def scatter(src, X, XTransformer):\n",
    "    shape = XTransformer.shape[:-1];    \n",
    "    I = np.zeros(len(shape), dtype = 'int16');\n",
    "    def action(Ia):\n",
    "        src[tuple(XTransformer[tuple(Ia)])] = X[tuple(Ia)]\n",
    "    traversal(shape,action)\n",
    "    return src\n",
    "\n",
    "def scatterX(src, X, shape1, T0, p0, p1, p):\n",
    "    shape0 = X.shape;\n",
    "    \n",
    "    XTransformer = getProvisionXTransformer(shape0, shape1, T0, p0, p1, p);\n",
    "    \n",
    "    scatter(src, X, XTransformer)\n",
    "    return src\n",
    "def tensorflowScatter(tensor, indices, updates):\n",
    "    l = list(range(len(indices.shape) - 1))\n",
    "   \n",
    "    tl = indices.shape[-1]\n",
    "    ln = list(range(len(tensor.shape)))\n",
    "    \n",
    "    t1 = ln[tl:]   \n",
    "    \n",
    "    p0 = np.array(l, dtype='int16')\n",
    "    p1 = np.array(t1, dtype='int16')\n",
    "    p = np.array(ln, dtype='int16')\n",
    "    scatterX(tensor, updates, tensor.shape, indices, p0, p1, p)\n",
    "    "
   ]
  },
  {
   "cell_type": "code",
   "execution_count": 4,
   "metadata": {},
   "outputs": [
    {
     "name": "stdout",
     "output_type": "stream",
     "text": [
      "[ 1 11  1 10  9  1  1 12]\n"
     ]
    }
   ],
   "source": [
    "#test case 0 tf\n",
    "indices = tf.constant([[4], [3], [1], [7]])\n",
    "updates = tf.constant([9, 10, 11, 12])\n",
    "tensor = tf.ones([8], dtype=tf.int32)\n",
    "s = tf.tensor_scatter_nd_update(tensor, indices, updates)\n",
    "print(s.numpy())"
   ]
  },
  {
   "cell_type": "code",
   "execution_count": 126,
   "metadata": {},
   "outputs": [
    {
     "data": {
      "text/plain": [
       "array([ 1, 11,  1, 10,  9,  1,  1, 12], dtype=int16)"
      ]
     },
     "execution_count": 126,
     "metadata": {},
     "output_type": "execute_result"
    }
   ],
   "source": [
    "#test case 0\n",
    "tensor = np.ones([8], dtype='int16')\n",
    "indices = np.array([[4], [3], [1], [7]], dtype='int16')\n",
    "updates = np.array([9, 10, 11, 12], dtype='int16')\n",
    "tensorflowScatter(tensor, indices, updates)\n",
    "tensor"
   ]
  },
  {
   "cell_type": "code",
   "execution_count": 47,
   "metadata": {},
   "outputs": [
    {
     "name": "stdout",
     "output_type": "stream",
     "text": [
      "[[[5 5 5 5]\n",
      "  [6 6 6 6]\n",
      "  [7 7 7 7]\n",
      "  [8 8 8 8]]\n",
      "\n",
      " [[1 1 1 1]\n",
      "  [1 1 1 1]\n",
      "  [1 1 1 1]\n",
      "  [1 1 1 1]]\n",
      "\n",
      " [[5 5 5 5]\n",
      "  [6 6 6 6]\n",
      "  [7 7 7 7]\n",
      "  [8 8 8 8]]\n",
      "\n",
      " [[1 1 1 1]\n",
      "  [1 1 1 1]\n",
      "  [1 1 1 1]\n",
      "  [1 1 1 1]]]\n"
     ]
    }
   ],
   "source": [
    "#test case 1\n",
    "indices = tf.constant([[0], [2]])\n",
    "updates = tf.constant([[[5, 5, 5, 5], [6, 6, 6, 6],\n",
    "                        [7, 7, 7, 7], [8, 8, 8, 8]],\n",
    "                       [[5, 5, 5, 5], [6, 6, 6, 6],\n",
    "                        [7, 7, 7, 7], [8, 8, 8, 8]]])\n",
    "tensor = tf.ones([4, 4, 4], dtype = tf.int32)\n",
    "print(tf.tensor_scatter_nd_update(tensor, indices, updates).numpy())"
   ]
  },
  {
   "cell_type": "code",
   "execution_count": 127,
   "metadata": {},
   "outputs": [
    {
     "data": {
      "text/plain": [
       "array([[[5, 5, 5, 5],\n",
       "        [6, 6, 6, 6],\n",
       "        [7, 7, 7, 7],\n",
       "        [8, 8, 8, 8]],\n",
       "\n",
       "       [[1, 1, 1, 1],\n",
       "        [1, 1, 1, 1],\n",
       "        [1, 1, 1, 1],\n",
       "        [1, 1, 1, 1]],\n",
       "\n",
       "       [[5, 5, 5, 5],\n",
       "        [6, 6, 6, 7],\n",
       "        [7, 7, 7, 7],\n",
       "        [8, 8, 8, 8]],\n",
       "\n",
       "       [[1, 1, 1, 1],\n",
       "        [1, 1, 1, 1],\n",
       "        [1, 1, 1, 1],\n",
       "        [1, 1, 1, 1]]], dtype=int16)"
      ]
     },
     "execution_count": 127,
     "metadata": {},
     "output_type": "execute_result"
    }
   ],
   "source": [
    "#test case 1\n",
    "indices = np.array([[0], [2]], dtype='int16')\n",
    "updates = np.array([[[5, 5, 5, 5], [6, 6, 6, 6],\n",
    "                        [7, 7, 7, 7], [8, 8, 8, 8]],\n",
    "                       [[5, 5, 5, 5], [6, 6, 6, 7],\n",
    "                        [7, 7, 7, 7], [8, 8, 8, 8]]], \n",
    "                      dtype='int16')\n",
    "tensor = np.ones([4, 4, 4], dtype='int16')\n",
    "tensorflowScatter(tensor, indices, updates)\n",
    "tensor"
   ]
  },
  {
   "cell_type": "code",
   "execution_count": null,
   "metadata": {},
   "outputs": [],
   "source": []
  }
 ],
 "metadata": {
  "kernelspec": {
   "display_name": "Python 3",
   "language": "python",
   "name": "python3"
  },
  "language_info": {
   "codemirror_mode": {
    "name": "ipython",
    "version": 3
   },
   "file_extension": ".py",
   "mimetype": "text/x-python",
   "name": "python",
   "nbconvert_exporter": "python",
   "pygments_lexer": "ipython3",
   "version": "3.7.9"
  }
 },
 "nbformat": 4,
 "nbformat_minor": 4
}
