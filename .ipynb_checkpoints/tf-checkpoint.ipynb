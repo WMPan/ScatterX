{
 "cells": [
  {
   "cell_type": "code",
   "execution_count": 1,
   "metadata": {},
   "outputs": [],
   "source": [
    "import tensorflow as tf\n",
    "import numpy as np"
   ]
  },
  {
   "cell_type": "code",
   "execution_count": 2,
   "metadata": {},
   "outputs": [],
   "source": [
    "#import ScatterX as x"
   ]
  },
  {
   "cell_type": "code",
   "execution_count": 35,
   "metadata": {},
   "outputs": [],
   "source": [
    "def getPick(p):\n",
    "    if p.ndim != 1:\n",
    "        raise Exception(\"ndim does not equal 1！\");\n",
    "    lp = p.shape[0]\n",
    "    \n",
    "    def pick(i):\n",
    "        if lp == 0:\n",
    "            return np.array([], dtype='int16')\n",
    "        mx = p.max();\n",
    "        mn = p.min();\n",
    "        if i.ndim != 1:\n",
    "            raise Exception(\"ndim does not equal 1！\");        \n",
    "        lt = i.shape[0];\n",
    "        if lt <= mx:\n",
    "            raise Exception(\"Argument Invalid！\");\n",
    "        j = np.zeros(lp, dtype = 'int16');\n",
    "        for k in range(lp):\n",
    "            j[k]= i[p[k]];\n",
    "        return j\n",
    "    return pick\n",
    "\n",
    "def getProvisionXTransformer(shape0, shape1, T0, p0, p1, p):    \n",
    "    if p0.dtype != 'int16' or p0.dtype != 'int16' or p.dtype != 'int16':\n",
    "        raise Exception(\"Data type error！\");\n",
    "    elif p0.ndim != 1 or p0.ndim != 1 or p.ndim != 1:\n",
    "        raise Exception(\"ndim to form pick does not equal 1！\");\n",
    "    E = np.zeros(shape0 + (len(shape1),), dtype = 'int16');\n",
    "    I = np.zeros(len(shape0), dtype = 'int16');\n",
    "    J = np.zeros(len(shape1), dtype = 'int16');\n",
    "    pick0 = getPick(p0);\n",
    "    pick1 = getPick(p1);\n",
    "    pick = getPick(p);\n",
    "    def combine(IC):\n",
    "        J0 = pick0(IC);\n",
    "        print(\"combine\")\n",
    "        print(IC)\n",
    "        print(J0)\n",
    "        Jp = T0[tuple(J0)]\n",
    "        J1 = pick1(IC)\n",
    "        Jl = list(tuple(Jp) + tuple(J1))\n",
    "        Ja = np.array(Jl, dtype = 'int16')\n",
    "        Jout = pick(Ja)\n",
    "        return Jout\n",
    "    n = len(shape0)\n",
    "    for i in range(n):\n",
    "        ni = shape0[i];\n",
    "        for j in range(ni):\n",
    "            I[i] = j;\n",
    "            if i == n - 1:\n",
    "                J = combine(I);\n",
    "                E[I] = J;\n",
    "    return E\n",
    "\n",
    "def scatterX(src, X, shape1, T0, p0, p1, p):\n",
    "    shape0 = X.shape;\n",
    "    print(shape0)\n",
    "    print(T0)\n",
    "    XTransformer = getProvisionXTransformer(shape0, shape1, T0, p0, p1, p);\n",
    "    print(XTransformer)\n",
    "    I = np.zeros(len(shape0), dtype = 'int16');\n",
    "    n = len(shape0)\n",
    "    for i in range(n):\n",
    "        ni = shape0[i];\n",
    "        for j in range(ni):\n",
    "            I[i] = j;\n",
    "            if i == n-1:\n",
    "                src[tuple(XTransformer[tuple(I)])] = X[tuple(I)]\n",
    "    return src\n",
    "def tensorflowScatter(tensor, indices, updates):\n",
    "    l = list(range(len(indices.shape) - 1))\n",
    "    p0 = np.array(l, dtype='int16')\n",
    "    p1 = np.array([], dtype='int16')\n",
    "    p = np.array(l, dtype='int16')\n",
    "    scatterX(tensor, updates, (8,), indices, p0, p1, p)\n",
    "    \n",
    "    "
   ]
  },
  {
   "cell_type": "code",
   "execution_count": 4,
   "metadata": {},
   "outputs": [
    {
     "name": "stdout",
     "output_type": "stream",
     "text": [
      "[ 1 11  1 10  9  1  1 12]\n"
     ]
    }
   ],
   "source": [
    "#test case 0 tf\n",
    "indices = tf.constant([[4], [3], [1], [7]])\n",
    "updates = tf.constant([9, 10, 11, 12])\n",
    "tensor = tf.ones([8], dtype=tf.int32)\n",
    "s = tf.tensor_scatter_nd_update(tensor, indices, updates)\n",
    "print(s.numpy())"
   ]
  },
  {
   "cell_type": "code",
   "execution_count": 29,
   "metadata": {},
   "outputs": [
    {
     "data": {
      "text/plain": [
       "[]"
      ]
     },
     "execution_count": 29,
     "metadata": {},
     "output_type": "execute_result"
    }
   ],
   "source": [
    "list(range(0))"
   ]
  },
  {
   "cell_type": "code",
   "execution_count": 36,
   "metadata": {},
   "outputs": [
    {
     "name": "stdout",
     "output_type": "stream",
     "text": [
      "(4,)\n",
      "[[4]\n",
      " [3]\n",
      " [1]\n",
      " [7]]\n",
      "combine\n",
      "[0]\n",
      "[0]\n",
      "combine\n",
      "[1]\n",
      "[1]\n",
      "combine\n",
      "[2]\n",
      "[2]\n",
      "combine\n",
      "[3]\n",
      "[3]\n",
      "[[4]\n",
      " [3]\n",
      " [1]\n",
      " [7]]\n"
     ]
    },
    {
     "data": {
      "text/plain": [
       "array([ 1, 11,  1, 10,  9,  1,  1, 12], dtype=int16)"
      ]
     },
     "execution_count": 36,
     "metadata": {},
     "output_type": "execute_result"
    }
   ],
   "source": [
    "#test case 0\n",
    "tensor = np.ones([8], dtype='int16')\n",
    "indices = np.array([[4], [3], [1], [7]], dtype='int16')\n",
    "updates = np.array([9, 10, 11, 12], dtype='int16')\n",
    "tensorflowScatter(tensor, indices, updates)\n",
    "tensor"
   ]
  },
  {
   "cell_type": "code",
   "execution_count": 37,
   "metadata": {},
   "outputs": [
    {
     "name": "stdout",
     "output_type": "stream",
     "text": [
      "[[[5 5 5 5]\n",
      "  [6 6 6 6]\n",
      "  [7 7 7 7]\n",
      "  [8 8 8 8]]\n",
      "\n",
      " [[1 1 1 1]\n",
      "  [1 1 1 1]\n",
      "  [1 1 1 1]\n",
      "  [1 1 1 1]]\n",
      "\n",
      " [[5 5 5 5]\n",
      "  [6 6 6 6]\n",
      "  [7 7 7 7]\n",
      "  [8 8 8 8]]\n",
      "\n",
      " [[1 1 1 1]\n",
      "  [1 1 1 1]\n",
      "  [1 1 1 1]\n",
      "  [1 1 1 1]]]\n"
     ]
    }
   ],
   "source": [
    "#test case 1\n",
    "indices = tf.constant([[0], [2]])\n",
    "updates = tf.constant([[[5, 5, 5, 5], [6, 6, 6, 6],\n",
    "                        [7, 7, 7, 7], [8, 8, 8, 8]],\n",
    "                       [[5, 5, 5, 5], [6, 6, 6, 6],\n",
    "                        [7, 7, 7, 7], [8, 8, 8, 8]]])\n",
    "tensor = tf.ones([4, 4, 4], dtype=tf.int32)\n",
    "print(tf.tensor_scatter_nd_update(tensor, indices, updates).numpy())"
   ]
  },
  {
   "cell_type": "code",
   "execution_count": 38,
   "metadata": {},
   "outputs": [
    {
     "name": "stdout",
     "output_type": "stream",
     "text": [
      "(2, 4, 4)\n",
      "[[0]\n",
      " [2]]\n",
      "combine\n",
      "[1 3 0]\n",
      "[1]\n"
     ]
    },
    {
     "ename": "IndexError",
     "evalue": "index 3 is out of bounds for axis 0 with size 2",
     "output_type": "error",
     "traceback": [
      "\u001b[0;31m---------------------------------------------------------------------------\u001b[0m",
      "\u001b[0;31mIndexError\u001b[0m                                Traceback (most recent call last)",
      "\u001b[0;32m<ipython-input-38-b4f0fdccdea5>\u001b[0m in \u001b[0;36m<module>\u001b[0;34m()\u001b[0m\n\u001b[1;32m      7\u001b[0m                       dtype='int16')\n\u001b[1;32m      8\u001b[0m \u001b[0mtensor\u001b[0m \u001b[0;34m=\u001b[0m \u001b[0mnp\u001b[0m\u001b[0;34m.\u001b[0m\u001b[0mones\u001b[0m\u001b[0;34m(\u001b[0m\u001b[0;34m[\u001b[0m\u001b[0;36m4\u001b[0m\u001b[0;34m,\u001b[0m \u001b[0;36m4\u001b[0m\u001b[0;34m,\u001b[0m \u001b[0;36m4\u001b[0m\u001b[0;34m]\u001b[0m\u001b[0;34m,\u001b[0m \u001b[0mdtype\u001b[0m\u001b[0;34m=\u001b[0m\u001b[0;34m'int16'\u001b[0m\u001b[0;34m)\u001b[0m\u001b[0;34m\u001b[0m\u001b[0;34m\u001b[0m\u001b[0m\n\u001b[0;32m----> 9\u001b[0;31m \u001b[0mtensorflowScatter\u001b[0m\u001b[0;34m(\u001b[0m\u001b[0mtensor\u001b[0m\u001b[0;34m,\u001b[0m \u001b[0mindices\u001b[0m\u001b[0;34m,\u001b[0m \u001b[0mupdates\u001b[0m\u001b[0;34m)\u001b[0m\u001b[0;34m\u001b[0m\u001b[0;34m\u001b[0m\u001b[0m\n\u001b[0m\u001b[1;32m     10\u001b[0m \u001b[0mtensor\u001b[0m\u001b[0;34m\u001b[0m\u001b[0;34m\u001b[0m\u001b[0m\n",
      "\u001b[0;32m<ipython-input-35-a690d69f1807>\u001b[0m in \u001b[0;36mtensorflowScatter\u001b[0;34m(tensor, indices, updates)\u001b[0m\n\u001b[1;32m     72\u001b[0m     \u001b[0mp1\u001b[0m \u001b[0;34m=\u001b[0m \u001b[0mnp\u001b[0m\u001b[0;34m.\u001b[0m\u001b[0marray\u001b[0m\u001b[0;34m(\u001b[0m\u001b[0;34m[\u001b[0m\u001b[0;34m]\u001b[0m\u001b[0;34m,\u001b[0m \u001b[0mdtype\u001b[0m\u001b[0;34m=\u001b[0m\u001b[0;34m'int16'\u001b[0m\u001b[0;34m)\u001b[0m\u001b[0;34m\u001b[0m\u001b[0;34m\u001b[0m\u001b[0m\n\u001b[1;32m     73\u001b[0m     \u001b[0mp\u001b[0m \u001b[0;34m=\u001b[0m \u001b[0mnp\u001b[0m\u001b[0;34m.\u001b[0m\u001b[0marray\u001b[0m\u001b[0;34m(\u001b[0m\u001b[0ml\u001b[0m\u001b[0;34m,\u001b[0m \u001b[0mdtype\u001b[0m\u001b[0;34m=\u001b[0m\u001b[0;34m'int16'\u001b[0m\u001b[0;34m)\u001b[0m\u001b[0;34m\u001b[0m\u001b[0;34m\u001b[0m\u001b[0m\n\u001b[0;32m---> 74\u001b[0;31m     \u001b[0mscatterX\u001b[0m\u001b[0;34m(\u001b[0m\u001b[0mtensor\u001b[0m\u001b[0;34m,\u001b[0m \u001b[0mupdates\u001b[0m\u001b[0;34m,\u001b[0m \u001b[0;34m(\u001b[0m\u001b[0;36m8\u001b[0m\u001b[0;34m,\u001b[0m\u001b[0;34m)\u001b[0m\u001b[0;34m,\u001b[0m \u001b[0mindices\u001b[0m\u001b[0;34m,\u001b[0m \u001b[0mp0\u001b[0m\u001b[0;34m,\u001b[0m \u001b[0mp1\u001b[0m\u001b[0;34m,\u001b[0m \u001b[0mp\u001b[0m\u001b[0;34m)\u001b[0m\u001b[0;34m\u001b[0m\u001b[0;34m\u001b[0m\u001b[0m\n\u001b[0m\u001b[1;32m     75\u001b[0m \u001b[0;34m\u001b[0m\u001b[0m\n\u001b[1;32m     76\u001b[0m \u001b[0;34m\u001b[0m\u001b[0m\n",
      "\u001b[0;32m<ipython-input-35-a690d69f1807>\u001b[0m in \u001b[0;36mscatterX\u001b[0;34m(src, X, shape1, T0, p0, p1, p)\u001b[0m\n\u001b[1;32m     56\u001b[0m     \u001b[0mprint\u001b[0m\u001b[0;34m(\u001b[0m\u001b[0mshape0\u001b[0m\u001b[0;34m)\u001b[0m\u001b[0;34m\u001b[0m\u001b[0;34m\u001b[0m\u001b[0m\n\u001b[1;32m     57\u001b[0m     \u001b[0mprint\u001b[0m\u001b[0;34m(\u001b[0m\u001b[0mT0\u001b[0m\u001b[0;34m)\u001b[0m\u001b[0;34m\u001b[0m\u001b[0;34m\u001b[0m\u001b[0m\n\u001b[0;32m---> 58\u001b[0;31m     \u001b[0mXTransformer\u001b[0m \u001b[0;34m=\u001b[0m \u001b[0mgetProvisionXTransformer\u001b[0m\u001b[0;34m(\u001b[0m\u001b[0mshape0\u001b[0m\u001b[0;34m,\u001b[0m \u001b[0mshape1\u001b[0m\u001b[0;34m,\u001b[0m \u001b[0mT0\u001b[0m\u001b[0;34m,\u001b[0m \u001b[0mp0\u001b[0m\u001b[0;34m,\u001b[0m \u001b[0mp1\u001b[0m\u001b[0;34m,\u001b[0m \u001b[0mp\u001b[0m\u001b[0;34m)\u001b[0m\u001b[0;34m;\u001b[0m\u001b[0;34m\u001b[0m\u001b[0;34m\u001b[0m\u001b[0m\n\u001b[0m\u001b[1;32m     59\u001b[0m     \u001b[0mprint\u001b[0m\u001b[0;34m(\u001b[0m\u001b[0mXTransformer\u001b[0m\u001b[0;34m)\u001b[0m\u001b[0;34m\u001b[0m\u001b[0;34m\u001b[0m\u001b[0m\n\u001b[1;32m     60\u001b[0m     \u001b[0mI\u001b[0m \u001b[0;34m=\u001b[0m \u001b[0mnp\u001b[0m\u001b[0;34m.\u001b[0m\u001b[0mzeros\u001b[0m\u001b[0;34m(\u001b[0m\u001b[0mlen\u001b[0m\u001b[0;34m(\u001b[0m\u001b[0mshape0\u001b[0m\u001b[0;34m)\u001b[0m\u001b[0;34m,\u001b[0m \u001b[0mdtype\u001b[0m \u001b[0;34m=\u001b[0m \u001b[0;34m'int16'\u001b[0m\u001b[0;34m)\u001b[0m\u001b[0;34m;\u001b[0m\u001b[0;34m\u001b[0m\u001b[0;34m\u001b[0m\u001b[0m\n",
      "\u001b[0;32m<ipython-input-35-a690d69f1807>\u001b[0m in \u001b[0;36mgetProvisionXTransformer\u001b[0;34m(shape0, shape1, T0, p0, p1, p)\u001b[0m\n\u001b[1;32m     49\u001b[0m             \u001b[0;32mif\u001b[0m \u001b[0mi\u001b[0m \u001b[0;34m==\u001b[0m \u001b[0mn\u001b[0m \u001b[0;34m-\u001b[0m \u001b[0;36m1\u001b[0m\u001b[0;34m:\u001b[0m\u001b[0;34m\u001b[0m\u001b[0;34m\u001b[0m\u001b[0m\n\u001b[1;32m     50\u001b[0m                 \u001b[0mJ\u001b[0m \u001b[0;34m=\u001b[0m \u001b[0mcombine\u001b[0m\u001b[0;34m(\u001b[0m\u001b[0mI\u001b[0m\u001b[0;34m)\u001b[0m\u001b[0;34m;\u001b[0m\u001b[0;34m\u001b[0m\u001b[0;34m\u001b[0m\u001b[0m\n\u001b[0;32m---> 51\u001b[0;31m                 \u001b[0mE\u001b[0m\u001b[0;34m[\u001b[0m\u001b[0mI\u001b[0m\u001b[0;34m]\u001b[0m \u001b[0;34m=\u001b[0m \u001b[0mJ\u001b[0m\u001b[0;34m;\u001b[0m\u001b[0;34m\u001b[0m\u001b[0;34m\u001b[0m\u001b[0m\n\u001b[0m\u001b[1;32m     52\u001b[0m     \u001b[0;32mreturn\u001b[0m \u001b[0mE\u001b[0m\u001b[0;34m\u001b[0m\u001b[0;34m\u001b[0m\u001b[0m\n\u001b[1;32m     53\u001b[0m \u001b[0;34m\u001b[0m\u001b[0m\n",
      "\u001b[0;31mIndexError\u001b[0m: index 3 is out of bounds for axis 0 with size 2"
     ]
    }
   ],
   "source": [
    "#test case 1\n",
    "indices = np.array([[0], [2]], dtype='int16')\n",
    "updates = np.array([[[5, 5, 5, 5], [6, 6, 6, 6],\n",
    "                        [7, 7, 7, 7], [8, 8, 8, 8]],\n",
    "                       [[5, 5, 5, 5], [6, 6, 6, 6],\n",
    "                        [7, 7, 7, 7], [8, 8, 8, 8]]], \n",
    "                      dtype='int16')\n",
    "tensor = np.ones([4, 4, 4], dtype='int16')\n",
    "tensorflowScatter(tensor, indices, updates)\n",
    "tensor"
   ]
  },
  {
   "cell_type": "code",
   "execution_count": null,
   "metadata": {},
   "outputs": [],
   "source": []
  }
 ],
 "metadata": {
  "kernelspec": {
   "display_name": "Python 3",
   "language": "python",
   "name": "python3"
  },
  "language_info": {
   "codemirror_mode": {
    "name": "ipython",
    "version": 3
   },
   "file_extension": ".py",
   "mimetype": "text/x-python",
   "name": "python",
   "nbconvert_exporter": "python",
   "pygments_lexer": "ipython3",
   "version": "3.7.9"
  }
 },
 "nbformat": 4,
 "nbformat_minor": 4
}
