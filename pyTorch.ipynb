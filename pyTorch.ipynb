{
 "cells": [
  {
   "cell_type": "code",
   "execution_count": 1,
   "metadata": {},
   "outputs": [],
   "source": [
    "import torch\n",
    "import numpy as np"
   ]
  },
  {
   "cell_type": "code",
   "execution_count": 39,
   "metadata": {},
   "outputs": [],
   "source": [
    "import ScatterX as x"
   ]
  },
  {
   "cell_type": "code",
   "execution_count": 48,
   "metadata": {},
   "outputs": [],
   "source": [
    "def pytorchScatter(pytorchScatter_self, dim, index, src):\n",
    "    l = len(index.shape)\n",
    "    ls = list(range(l))\n",
    "    p1 = np.array(tuple(ls[:dim])+tuple(ls[(dim+1):]), dtype='int16');\n",
    "    p0 = np.array(list(range(l)), dtype='int16');\n",
    "    p = np.array(tuple(ls[1:(dim+1)])+(0,)+tuple(ls[(dim+1):]), dtype='int16');\n",
    "    u2 = np.zeros(index.shape);\n",
    "    def f(I):\n",
    "        u2[tuple(I)] = src[tuple(I)]\n",
    "    x.traversal(ind.shape,f)\n",
    "    x.scatterX(pytorchScatter_self, u2, index, p0, p1, p)"
   ]
  },
  {
   "cell_type": "code",
   "execution_count": 51,
   "metadata": {},
   "outputs": [
    {
     "data": {
      "text/plain": [
       "tensor([[0.7654, 0.0000, 0.0000, 0.0000, 0.0000],\n",
       "        [0.0000, 0.0000, 0.0000, 0.2314, 0.0000],\n",
       "        [0.0000, 0.0000, 0.0000, 0.0000, 0.0000]])"
      ]
     },
     "execution_count": 51,
     "metadata": {},
     "output_type": "execute_result"
    }
   ],
   "source": [
    "#test case 0 \n",
    "src = torch.tensor([[0.7654, 0.1543, 0.8820, 0.9940, 0.0098],\n",
    "        [0.2314, 0.9098, 0.1102, 0.4785, 0.5746]]);\n",
    "torch.zeros(3, 5).scatter_(1, torch.tensor([[0],[3]]), src)"
   ]
  },
  {
   "cell_type": "code",
   "execution_count": 52,
   "metadata": {},
   "outputs": [
    {
     "data": {
      "text/plain": [
       "array([[0.7654, 0.    , 0.    , 0.    , 0.    ],\n",
       "       [0.    , 0.    , 0.    , 0.2314, 0.    ],\n",
       "       [0.    , 0.    , 0.    , 0.    , 0.    ]])"
      ]
     },
     "execution_count": 52,
     "metadata": {},
     "output_type": "execute_result"
    }
   ],
   "source": [
    "#test case 0 pytorch\n",
    "src = np.array([[0.7654, 0.1543, 0.8820, 0.9940, 0.0098],\n",
    "        [0.2314, 0.9098, 0.1102, 0.4785, 0.5746]]);\n",
    "index = np.array([[0],[3]], dtype='int16');\n",
    "sf = np.zeros((3, 5))\n",
    "pytorchScatter(sf, 1, index, src)\n",
    "sf"
   ]
  },
  {
   "cell_type": "code",
   "execution_count": null,
   "metadata": {},
   "outputs": [],
   "source": []
  }
 ],
 "metadata": {
  "kernelspec": {
   "display_name": "Python 3",
   "language": "python",
   "name": "python3"
  },
  "language_info": {
   "codemirror_mode": {
    "name": "ipython",
    "version": 3
   },
   "file_extension": ".py",
   "mimetype": "text/x-python",
   "name": "python",
   "nbconvert_exporter": "python",
   "pygments_lexer": "ipython3",
   "version": "3.7.9"
  }
 },
 "nbformat": 4,
 "nbformat_minor": 4
}
