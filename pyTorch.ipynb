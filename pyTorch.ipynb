{
 "cells": [
  {
   "cell_type": "code",
   "execution_count": 1,
   "metadata": {},
   "outputs": [],
   "source": [
    "import torch\n",
    "import numpy as np"
   ]
  },
  {
   "cell_type": "code",
   "execution_count": 27,
   "metadata": {},
   "outputs": [],
   "source": [
    "def getPick(p):\n",
    "    if p.ndim != 1:\n",
    "        raise Exception(\"ndim does not equal 1！\");\n",
    "    lp = p.shape[0]\n",
    "    \n",
    "    def pick(i):\n",
    "        if lp == 0:\n",
    "            return np.array([], dtype='int16')\n",
    "        mx = p.max();\n",
    "        mn = p.min();\n",
    "        if i.ndim != 1:\n",
    "            raise Exception(\"ndim does not equal 1！\");  \n",
    "        \n",
    "        if mx >= i.shape[0]:\n",
    "            raise Exception(\"Argument Invalid！\");\n",
    "        j = np.zeros(lp, dtype = 'int16');\n",
    "        for k in range(lp):\n",
    "            j[k]= i[p[k]];\n",
    "        return j\n",
    "    return pick\n",
    "\n",
    "def traversal(traversalShape,action):      \n",
    "    ilen = len(traversalShape)\n",
    "    if ilen == 0:\n",
    "        raise Exception(\"traversalShape's length == 0！\");\n",
    "    elif traversalShape[0] == 0:\n",
    "        raise Exception(\"traversalShape's length == 0！\");\n",
    "    traversalInd = np.array(traversalShape);\n",
    "    def traversalForInner(i):   \n",
    "        n = traversalShape[i];\n",
    "        \n",
    "        if i < ilen-1:\n",
    "            for j in range(n):\n",
    "                traversalInd[i] = j;\n",
    "                traversalForInner(i+1);\n",
    "        elif i == ilen-1:\n",
    "            for j in range(n):\n",
    "                traversalInd[i] = j;\n",
    "                action(traversalInd);\n",
    "        else:\n",
    "            raise Exception(\"Exception raised！\");\n",
    "    traversalForInner(0)\n",
    "\n",
    "def getProvisionXTransformer(shape0, shape1, T0, p0, p1, p):    \n",
    "    if p0.dtype != 'int16' or p0.dtype != 'int16' or p.dtype != 'int16':\n",
    "        raise Exception(\"Data type error！\");\n",
    "    elif p0.ndim != 1 or p0.ndim != 1 or p.ndim != 1:\n",
    "        raise Exception(\"ndim to form pick does not equal 1！\");\n",
    "    E = np.zeros(shape0 + (len(shape1),), dtype = 'int16');\n",
    "    I = np.zeros(len(shape0), dtype = 'int16');\n",
    "    J = np.zeros(len(shape1), dtype = 'int16');\n",
    "    pick0 = getPick(p0);\n",
    "    pick1 = getPick(p1);\n",
    "    pick = getPick(p);\n",
    "    def combine(IC):\n",
    "        J0 = pick0(IC);\n",
    "        print(J0)\n",
    "        tu = True\n",
    "        for i in range(len(J0)):\n",
    "            tu = tu and J0[i] < T0.shape[i];\n",
    "        if tu:\n",
    "            Jp = T0[tuple(J0)] \n",
    "            print(Jp)\n",
    "            J1 = pick1(IC)\n",
    "            Jl = list(tuple(Jp) + tuple(J1))\n",
    "            print(Jl)\n",
    "            Ja = np.array(Jl, dtype = 'int16')\n",
    "            J = pick(Ja)\n",
    "            E[tuple(IC)] = J;\n",
    "    traversal(shape0,combine)\n",
    "   \n",
    "    return E\n",
    "\n",
    "def scatter(src, X, XTransformer):\n",
    "    shape = XTransformer.shape[:-1];    \n",
    "    I = np.zeros(len(shape), dtype = 'int16');\n",
    "    def action(Ia):\n",
    "        src[tuple(XTransformer[tuple(Ia)])] = X[tuple(Ia)]\n",
    "    traversal(shape,action)\n",
    "    return src\n",
    "\n",
    "def scatterX(src, X, shape1, T0, p0, p1, p):\n",
    "    shape0 = X.shape;\n",
    "    \n",
    "    XTransformer = getProvisionXTransformer(shape0, shape1, T0, p0, p1, p);\n",
    "    print(XTransformer)\n",
    "    scatter(src, X, XTransformer)\n",
    "    return src\n",
    "def tensorflowScatter(tensor, indices, updates):\n",
    "    l = list(range(len(indices.shape) - 1))\n",
    "   \n",
    "    tl = indices.shape[-1]\n",
    "    ln = list(range(len(tensor.shape)))\n",
    "    \n",
    "    t1 = ln[tl:]   \n",
    "    \n",
    "    p0 = np.array(l, dtype='int16')\n",
    "    p1 = np.array(t1, dtype='int16')\n",
    "    p = np.array(ln, dtype='int16')\n",
    "    scatterX(tensor, updates, tensor.shape, indices, p0, p1, p)\n",
    "    "
   ]
  },
  {
   "cell_type": "code",
   "execution_count": 25,
   "metadata": {},
   "outputs": [
    {
     "output_type": "execute_result",
     "data": {
      "text/plain": [
       "tensor([[0.4707, 0.0000, 0.0000, 0.0000, 0.0000],\n",
       "        [0.0000, 0.0000, 0.5085, 0.0000, 0.0000],\n",
       "        [0.0000, 0.0000, 0.0000, 0.0000, 0.0000]])"
      ]
     },
     "metadata": {},
     "execution_count": 25
    }
   ],
   "source": [
    "#test case 0 \n",
    "u = torch.tensor([[0.4707, 0.5464, 0.4439, 0.7922, 0.8641],\n",
    "        [0.5085, 0.5926, 0.2702, 0.3165, 0.6066]]);\n",
    "torch.zeros(3, 5).scatter_(1, torch.tensor([[0],[2]]), u)"
   ]
  },
  {
   "cell_type": "code",
   "execution_count": 31,
   "metadata": {},
   "outputs": [
    {
     "output_type": "stream",
     "name": "stdout",
     "text": [
      "ind2\n[[[0]]\n\n [[2]]]\n[0 0]\n[0]\n[0, 0]\n[0 1]\n[0 2]\n[0 3]\n[0 4]\n[1 0]\n[2]\n[2, 1]\n[1 1]\n[1 2]\n[1 3]\n[1 4]\n[[[0 0]\n  [0 0]\n  [0 0]\n  [0 0]\n  [0 0]]\n\n [[2 1]\n  [0 0]\n  [0 0]\n  [0 0]\n  [0 0]]]\n"
     ]
    },
    {
     "output_type": "execute_result",
     "data": {
      "text/plain": [
       "array([[0, 0, 0, 0, 0],\n",
       "       [0, 0, 0, 0, 0],\n",
       "       [0, 0, 0, 0, 0]], dtype=int16)"
      ]
     },
     "metadata": {},
     "execution_count": 31
    }
   ],
   "source": [
    "#test case 0 pytorch\n",
    "u = np.array([[0.4707, 0.5464, 0.4439, 0.7922, 0.8641],\n",
    "        [0.5085, 0.5926, 0.2702, 0.3165, 0.6066]], dtype='int16');\n",
    "ind = np.array([[0],[2]], dtype='int16');\n",
    "src = np.zeros((3, 5),dtype='int16')\n",
    "l = len(src.shape)\n",
    "ls = list(range(l))\n",
    "dim =1\n",
    "p1 = np.array(tuple(ls[:dim])+tuple(ls[(dim+1):]), dtype='int16');\n",
    "p0 = np.array(list(range(l)), dtype='int16');\n",
    "p = np.array(tuple(ls[(dim+1):])+(0,)+tuple(ls[1:(dim+1)]), dtype='int16');\n",
    "ind2 = np.zeros(ind.shape+(1,), dtype='int16');\n",
    "def action(I):\n",
    "    ind2[tuple(I)] = [ind[tuple(I)]]\n",
    "traversal(ind.shape,action)\n",
    "print(\"ind2\")\n",
    "print(ind2)\n",
    "scatterX(src, u, src.shape, ind2, p0, p1, p)"
   ]
  },
  {
   "cell_type": "code",
   "execution_count": null,
   "metadata": {},
   "outputs": [],
   "source": []
  }
 ],
 "metadata": {
  "kernelspec": {
   "name": "python3",
   "display_name": "Python 3.7.9 64-bit ('mytorch': conda)",
   "metadata": {
    "interpreter": {
     "hash": "b6570bbf7726087836781afe3a69db8a0e3640545fb5cefb288447fe8d15d881"
    }
   }
  }
 },
 "nbformat": 4,
 "nbformat_minor": 4
}